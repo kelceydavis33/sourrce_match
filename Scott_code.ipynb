{
 "cells": [
  {
   "cell_type": "markdown",
   "metadata": {},
   "source": [
    "## An Intro to Python and Jupyter Notebooks\n",
    "\n",
    "Hi Scott! I can't seem to reproduce your error on my end. The error you were getting pointed to the first line in your for loop. 'Unexected EOF while parsing\" means that you've passed Python an unexpected end of frame, which I was able to duplicate below. Adding the two lines back that you sent me caused the code to run correctly. \n",
    "\n",
    "Here is a quick note about how to use a Jupyter notebook: \n",
    "\n",
    "* To launch the notebook, you should open the Jupyter Notebook launcher, on windows from the anaconda navigator. There are two main types of cells in the jupyter notebook, code and markdown cells. Markdown cells, like this one, allow you to display text. You can click on this cell to display the version of this cell without the code run. To run a cell, you can click on it and hit control + enter on your keyboard. \n",
    "* There are also code cells. You can run them in the same way, put they output the code you run. "
   ]
  },
  {
   "cell_type": "code",
   "execution_count": 12,
   "metadata": {},
   "outputs": [
    {
     "ename": "SyntaxError",
     "evalue": "unexpected EOF while parsing (<ipython-input-12-0591bf35e9f3>, line 2)",
     "output_type": "error",
     "traceback": [
      "\u001b[0;36m  File \u001b[0;32m\"<ipython-input-12-0591bf35e9f3>\"\u001b[0;36m, line \u001b[0;32m2\u001b[0m\n\u001b[0;31m    for n in array:\u001b[0m\n\u001b[0m                   ^\u001b[0m\n\u001b[0;31mSyntaxError\u001b[0m\u001b[0;31m:\u001b[0m unexpected EOF while parsing\n"
     ]
    }
   ],
   "source": [
    "array = ['1','2','3','4']\n",
    "for n in array:"
   ]
  },
  {
   "cell_type": "code",
   "execution_count": 13,
   "metadata": {},
   "outputs": [
    {
     "name": "stdout",
     "output_type": "stream",
     "text": [
      "1\n",
      "2\n",
      "3\n",
      "4\n"
     ]
    },
    {
     "data": {
      "text/plain": [
       "4"
      ]
     },
     "execution_count": 13,
     "metadata": {},
     "output_type": "execute_result"
    }
   ],
   "source": [
    "array = ['1','2','3','4']\n",
    "for n in array:\n",
    "    print (n)\n",
    "len(array)"
   ]
  }
 ],
 "metadata": {
  "kernelspec": {
   "display_name": "Python 3",
   "language": "python",
   "name": "python3"
  },
  "language_info": {
   "codemirror_mode": {
    "name": "ipython",
    "version": 3
   },
   "file_extension": ".py",
   "mimetype": "text/x-python",
   "name": "python",
   "nbconvert_exporter": "python",
   "pygments_lexer": "ipython3",
   "version": "3.6.7"
  }
 },
 "nbformat": 4,
 "nbformat_minor": 2
}
